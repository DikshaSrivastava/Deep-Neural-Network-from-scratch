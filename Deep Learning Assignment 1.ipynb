{
 "cells": [
  {
   "attachments": {},
   "cell_type": "markdown",
   "metadata": {},
   "source": [
    "## Assignment 1\n",
    "\n",
    "### Saumya Goel (21238562) and Diksha Srivastava (21235117)\n",
    "\n",
    "### Part 1 and Part 2: Implement Logistic Regression and test it on validation and test set.\n",
    "\n",
    "1. Logistic regression is a supervised classification algorithm used for categorical variables which can take only discrete values as the output such as 0/1, True/False, Yes/No, etc.  \n",
    "\n",
    "2. Logistic regression creates a regression model by computing the probability of the given observation belonging to a particular category. It becomes a classification algorithm when a decision threshold is set making threshold value an important element.  \n",
    "\n",
    "3. Unlike Linear Regression which uses a linear function resulting in a straight-line graph, Logistic regression uses non-linear functions such as sigmoid, tanh, ReLU and and Leaky ReLU that have slight differences in the range they cover and complexity. \n",
    "\n",
    "4. Logistic Regression are of 3 types: \n",
    "   a. Binomial: Two possible output values for the target variable. For e.g.: Yes/No, 0/1, Win/Loss \n",
    "   b. Multinomial: Three possible unordered output values for the target variable. For e.g.: “Disease A” vs “Disease B” vs    “Disease    C” \n",
    "   c. Ordinal: The target variable has ordered output values. For e.g.: “Good”, “Better”, “Best” or “Excellent”\n",
    "\n",
    "5. Logistic regression has three main functions:  \n",
    "   a. Hypothesis: To start building the hypothesis for the logistic regression algorithm, regression coefficients need to be introduced. Regression coefficients or weights are associated with the features which tells how important a feature is for the classification problem. The goal is to find the line that separates the two classes. We start with taking linear equation of the form: \n",
    "      ZW,b(x) = W.X + b\n",
    "      \n",
    "   where W is the set of weights signifying the importance of a feature, and b represents bias or intercept  \n",
    "   The equation is then passed through the activation function or threshold function. The purpose of activation function is to    convert straight line equation into 0/1 values for classifier. The sigmoid function, also known as logistic function, is used for hypothesis which maps predictions to probabilities. It can be represented as  \n",
    "   \n",
    "   ŷ = a(X) = f(W.X+ b) = f(Z) = 1/(1+e^(-Z) )\n",
    "   \n",
    "   b. Cost: In order to find ŷ i.e., predictions as close as possible to y(i) i.e., actual value, loss function is defined over a single training case and then averaged over all training cases which results in average log loss. \n",
    "   \n",
    "   J(W,b) = -1/N ∑_(i=1)^N▒〖(y^((i)) log⁡(y ̂^((ⅈ))+(1-y^((ⅈ)))log(1-y ̂^((ⅈ)))〗\n",
    "   \n",
    "   The objective is to evaluate the error and develop a model with minimum error. As J() moves towards 0, y^ tends to the correct value. On the contrary, when J() moves towards infinity, y^ tends to the wrong value. \n",
    "   \n",
    "   c. Gradient Descent: Gradient descent is an optimization technique that finds the optimal coefficients and minimizes the cost function by updating parameters W and b. We are going to use stochastic gradient descent for task 1 and 3. Therefore, the equation of cost function is updated to \n",
    "   J(W,b) = -(y^((i)) log⁡(y ̂^((ⅈ))+(1-y^((ⅈ)))log(1-y ̂^((ⅈ)))"
   ]
  },
  {
   "cell_type": "code",
   "execution_count": 8,
   "metadata": {
    "scrolled": false
   },
   "outputs": [],
   "source": [
    "# Package imports\n",
    "import matplotlib\n",
    "import matplotlib.pyplot as plt\n",
    "import sklearn\n",
    "import sklearn.datasets\n",
    "import pandas as pd\n",
    "import numpy as np\n",
    "from sklearn.model_selection import train_test_split\n",
    "from sklearn.metrics import accuracy_score\n",
    "from sklearn.preprocessing import StandardScaler"
   ]
  },
  {
   "cell_type": "markdown",
   "metadata": {},
   "source": [
    "As instructed, the dataset is split into train, validation and test set in the ratio 70:15:15 using train_test_split() of SkLearn."
   ]
  },
  {
   "cell_type": "code",
   "execution_count": 9,
   "metadata": {
    "scrolled": false
   },
   "outputs": [],
   "source": [
    "def read_file(filename):\n",
    "    ''' Method to read files and create the dataset. \n",
    "    Some code of this part is taken from the sample \n",
    "    provided to load datasets.'''\n",
    "    # Use pandas to read the CSV file as a dataframe\n",
    "    df = pd.read_csv(filename)\n",
    "\n",
    "    # The y values are those labelled 'Class': extract their values\n",
    "    y = df['Class'].values\n",
    "\n",
    "    # The x values are all other columns\n",
    "    del df['Class']   # drop the 'Class' column from the dataframe\n",
    "    X = df.values     # convert the remaining columns to a numpy array\n",
    "    \n",
    "    scaler = StandardScaler()\n",
    "    scaler.fit(X)\n",
    "    X_scaled = scaler.transform(X)\n",
    "\n",
    "    # Splitting the dataset in 85:15 ratio for training set and test set.\n",
    "    X_train, X_test, y_train, y_test = train_test_split(X_scaled, y, test_size= 0.15)\n",
    "\n",
    "    # Splitting the training set such that 15% of the data is in the validation set.\n",
    "    X_train, X_val, y_train, y_val = train_test_split(X_train, y_train, test_size= 0.15)\n",
    "\n",
    "    return X, y, X_train, y_train, X_val, X_test, y_val, y_test"
   ]
  },
  {
   "cell_type": "code",
   "execution_count": 10,
   "metadata": {
    "scrolled": false
   },
   "outputs": [],
   "source": [
    "def sigmoid(z):\n",
    "    ''' The sigmoid function is the activation function of Logistic Regression.'''\n",
    "    return 1.0 / (1 + np.exp(-z))\n",
    "\n",
    "def cost_func(y,y_hat):\n",
    "    '''This method calculates the cost for stochastic gradient descent.'''\n",
    "    cost = -(y*np.log(y_hat) + (1-y)*np.log(1-y_hat))\n",
    "    return cost"
   ]
  },
  {
   "cell_type": "code",
   "execution_count": 11,
   "metadata": {
    "scrolled": false
   },
   "outputs": [],
   "source": [
    "def logistic_regression(learning_rate, max_iterations, convergence_threshold, X_train, \n",
    "                        y_train, X):\n",
    "    '''This method implements Logistic Regression from scratch.'''\n",
    "    \n",
    "    # Initialising weights and bias with some random small initial values.\n",
    "    w = np.random.normal(0, 1, size= X.shape[1])\n",
    "    dw = np.zeros(X.shape[1])\n",
    "    b = 0.2\n",
    "    costs = []\n",
    "    \n",
    "    # Initialising the previous cost as 0.\n",
    "    J_prev = 0\n",
    "    for i in range(max_iterations):\n",
    "        # Selecting randomly a training case for Stochastic Gradient Descent.\n",
    "        random_indices = np.random.choice(X_train.shape[0], size=1, replace=False)\n",
    "        X_SGD = X_train[random_indices, :]\n",
    "        y_SGD = y_train[random_indices]\n",
    "        # Calculating w.x+b and passing into activation function.\n",
    "        z = np.dot(X_SGD, w) + b\n",
    "        y_hat = sigmoid(z)\n",
    "        # Calculating the current cost.\n",
    "        J_curr = cost_func(y_SGD, y_hat)\n",
    "        costs.append(J_curr) \n",
    "        # If the change in cost is minimal then convergence is reached.\n",
    "        if(abs(J_curr - J_prev) < convergence_threshold):\n",
    "            break\n",
    "        # Gradient Descent\n",
    "        for j in range(w.size):\n",
    "            # Calcuating the derivative of weights (y_hat - y)* X and bias (y_hat - y).\n",
    "            dw[j] = (y_hat - y_SGD[0]) * X_SGD[:,j]\n",
    "        db = (y_hat - y_SGD[0])\n",
    "        for j in range(w.size):\n",
    "            # Updating the weights\n",
    "            w[j] = w[j] - learning_rate * dw[j] \n",
    "        b = b - learning_rate * db\n",
    "        # Current cost will become previous cost.\n",
    "        J_prev = J_curr\n",
    "    return w, b, costs"
   ]
  },
  {
   "cell_type": "code",
   "execution_count": 12,
   "metadata": {
    "scrolled": false
   },
   "outputs": [],
   "source": [
    "def predict(w, X, b):\n",
    "    ''' Calculating the probability based on optimal w and b values.'''\n",
    "    z = np.dot(X, w) + b\n",
    "    y_hat = sigmoid(z)\n",
    "    return y_hat\n",
    "\n",
    "def accuracy(X_test, y_test, w, b):\n",
    "    '''This function classifies the predicted values to 0/1 and calculates the accuracy score.'''\n",
    "    y_pred = []\n",
    "    # predicting the label\n",
    "    for x in range(len(y_test)):\n",
    "        y_pred.append(predict(w, X_test[x], b))\n",
    "\n",
    "    # Classifying the predicted value to 0/1 based on a threshold i.e. 0.5\n",
    "    for x in range(len(y_pred)):\n",
    "        if y_pred[x]>=0.5:\n",
    "            y_pred[x]=1\n",
    "        else:\n",
    "            y_pred[x]=0\n",
    "\n",
    "    accr = accuracy_score(y_test, y_pred) * 100\n",
    "    return accr"
   ]
  },
  {
   "cell_type": "code",
   "execution_count": 13,
   "metadata": {
    "scrolled": false
   },
   "outputs": [],
   "source": [
    "def validate_model(filename, X, X_train, y_train, X_val, y_val):\n",
    "    ''' This method checks the optimal values of hyperparameters like learning rate.'''\n",
    "    learning_rate = [0.1, 0.01, 0.001, 0.0001]\n",
    "    max_iterations, convergence_threshold = 10000, 0.000001\n",
    "    accuracies = []\n",
    "    for lr in learning_rate:\n",
    "        # Training the logistic regression model.\n",
    "        w, b, costs= logistic_regression(lr, max_iterations, convergence_threshold, \n",
    "                                  X_train, \n",
    "                                  y_train, X)\n",
    "        # Testing the model on validation set.\n",
    "        accuracies.append(accuracy(X_val, y_val, w, b))\n",
    "    accuracies_df = pd.DataFrame({'LearningRate': learning_rate, \n",
    "                                  'Accuracy': accuracies})\n",
    "    print('Accuracy at different learning rates on '+ filename[:-4] + ' dataset: ')\n",
    "    print(accuracies_df.sort_values(['Accuracy', 'LearningRate'], ascending= [False, False]))\n",
    "    return accuracies_df.sort_values(['Accuracy', 'LearningRate'], ascending= [False, False]).iloc[0,0]"
   ]
  },
  {
   "cell_type": "code",
   "execution_count": 21,
   "metadata": {
    "scrolled": false
   },
   "outputs": [
    {
     "name": "stdout",
     "output_type": "stream",
     "text": [
      "Accuracy at different learning rates on blobs300 dataset: \n",
      "   LearningRate    Accuracy\n",
      "0        0.1000  100.000000\n",
      "1        0.0100  100.000000\n",
      "2        0.0010   94.871795\n",
      "3        0.0001   74.358974\n"
     ]
    },
    {
     "data": {
      "image/png": "[encoded data removed]",
      "text/plain": [
       "<Figure size 432x288 with 1 Axes>"
      ]
     },
     "metadata": {
      "needs_background": "light"
     },
     "output_type": "display_data"
    },
    {
     "name": "stdout",
     "output_type": "stream",
     "text": [
      "Accuracy at different learning rates on circles600 dataset: \n",
      "   LearningRate   Accuracy\n",
      "1        0.0100  58.441558\n",
      "3        0.0001  51.948052\n",
      "2        0.0010  50.649351\n",
      "0        0.1000  45.454545\n"
     ]
    },
    {
     "data": {
      "image/png": "[encoded data removed]",
      "text/plain": [
       "<Figure size 432x288 with 1 Axes>"
      ]
     },
     "metadata": {
      "needs_background": "light"
     },
     "output_type": "display_data"
    },
    {
     "name": "stdout",
     "output_type": "stream",
     "text": [
      "   Blobs  Circles\n",
      "0  100.0     60.0\n"
     ]
    }
   ],
   "source": [
    "def model(filename):\n",
    "    '''This method integrates the Logistic Regression implementation and returns \n",
    "    the accuracy of the model.'''\n",
    "    # initialize hyper-parameters\n",
    "    max_iterations, convergence_threshold = 10000, 0.000001\n",
    "    X, y, X_train, y_train, X_val, X_test, y_val, y_test= read_file(filename)\n",
    "    # Obtaining the learning rate giving maximum accuracy after validating the on the validation set.\n",
    "    learning_rate = validate_model(filename, X, X_train, y_train, X_val, y_val)\n",
    "    # Training the model.\n",
    "    w, b, costs= logistic_regression(learning_rate, max_iterations, convergence_threshold, \n",
    "                            X_train, \n",
    "                            y_train, X)\n",
    "    # plot the cost\n",
    "    plt.plot(costs)\n",
    "    plt.ylabel('cost')\n",
    "    plt.xlabel('Iterations')\n",
    "    plt.title(\"Variation in costs\")\n",
    "    plt.show()\n",
    "    # Testing the trained model.\n",
    "    accr = accuracy(X_test, y_test, w, b)\n",
    "    return accr\n",
    "\n",
    "accuracies = pd.DataFrame()\n",
    "accuracies = accuracies.append({'Blobs' : model('blobs300.csv'), \n",
    "                                'Circles' : model('circles600.csv')}, ignore_index = True)\n",
    "print(accuracies)"
   ]
  },
  {
   "cell_type": "markdown",
   "metadata": {},
   "source": [
    "##### Use of Validation set\n",
    "\n",
    "The logistic regression model is trained on the validation set for different learning rates. The accuracy of the model is tested on the validation set. Once the accuracy for different learning rates is found then that learning rate is chosen which gave the highest accuracy. This learning rate is further used to test the accuracy on the test set."
   ]
  },
  {
   "cell_type": "markdown",
   "metadata": {},
   "source": [
    "##### Observation \n",
    "\n",
    "The accuracy for Blobs dataset on test set is higher than the accuracy for the Circles dataset, since Blobs dataset is linearly separable, whereas Circles dataset is not. \n",
    "\n",
    "It is visible from the plots shown above, the convergence is reached sooner for the blobs dataset. However, the convergence for circles dataset was never reached and it iterated for maximum number of iterations i.e. 10000."
   ]
  },
  {
   "attachments": {},
   "cell_type": "markdown",
   "metadata": {},
   "source": [
    "### Part 3: Implement Shallow Neural Network\n",
    "\n",
    "The basic overview of how neural networks operate is as follows:\n",
    "\n",
    "a)\tThe input features are sent into nodes organized into hidden layers. A feature is connected to each neuron in the first hidden layer. This is true for all the input features. The outputs of the first hidden layer are connected to the next hidden layer and so on. The outputs of the last hidden layer are connected to the output layer as inputs and at output layer, we get classification values.\n",
    "\n",
    "b)\tEach input acts as a signal and each node acts as a neuron. Each signal coming in multiplied by some weight and a bias term is sent to each node as well. These signals multiplied by weights and bias are summed inside the neuron. The result of the sum goes to the activation function which limits the range of the sum of the weighted values so that it takes S-like shape.\n",
    "\n",
    "c)\tTo classify non-linearly separable data, we can use neural net learning to generate the more accurate prediction. The idea is same as described in the first two points. Each node in the hidden layer is a logistic regressor. \n",
    "\n",
    "d)\tWe begin with choosing learning rate, max number of iterations, threshold for convergence, etc. Also, W and b are initialised to small random values. The number of weights to be used at each node are equal to the number of input features. \n",
    "\n",
    "e)\tForward Propagation: This is performed before updating the weights. The idea is to move forward in the network and calculate sum of inputs at each node and pass it through activation function to generate predictions. It is given by the formula\n",
    "\n",
    "Zi[l] = ∑_(j = 1 to n)▒wij[l]   aj[l-1] +bi[l] \n",
    "\n",
    "ai[l] = f[l](Zi[l])\n",
    "\n",
    "\n",
    "where f[l]() is the activation function of layer l.\n",
    "\n",
    "f)\tBackward Propagation: The error is calculated by taking the difference between predicted value and actual value. It is then propagated in the network and gradients are computed.\n",
    "Output Layer:                                   \n",
    "\n",
    "  ∆Z1[L]  =  a1[L] – y1\n",
    "\n",
    "∆W1,i[L] = ∆Z1[L]ai[L-1]\n",
    "\n",
    "∆b1[L] = ∆Z1[L]\n",
    "\n",
    "\n",
    "Hidden Layer: Loop backwards from L-1 to 1\n",
    "\n",
    "∆Zi[l] = f´(Zi[l])∑j(∆Zj[l+1] Wj,i[l+1])\n",
    "\n",
    "∆Wj,i[l] = ∆Zj[l]ai[l-1]\n",
    "\n",
    "∆bj[l] = ∆Zj[l]\n",
    "\n",
    "\n",
    "g)\tUpdate W and b to minimize cost\n",
    "\n",
    "Wj,i[l] - = α∆Wji[l]\n",
    "bj[l] - = α∆bj[l]\n"
   ]
  },
  {
   "cell_type": "code",
   "execution_count": 22,
   "metadata": {
    "scrolled": false
   },
   "outputs": [],
   "source": [
    "def initialize(nodes, features):\n",
    "    '''Initializing the weights and bias with small random values.\n",
    "    The dimension of weights when propagating to first hidden layer is nodes * features.\n",
    "    The dimension of weights when propagating from hidden layer to output layer is 1 * nodes.'''\n",
    "    parameters = {}\n",
    "    # If nodes are 3 and features are 4 then W1 will have dimension 3 * 4.\n",
    "    parameters['W1'] = np.random.normal(0, 1, size = (nodes, features))\n",
    "    parameters['B1'] = np.random.normal(0, 1, size = (nodes,1)) \n",
    "    parameters['W2'] = np.random.normal(0, 1, size = (1, nodes))\n",
    "    parameters['B2'] = np.random.normal(0, 1, size = (1,1))\n",
    "    return parameters"
   ]
  },
  {
   "cell_type": "code",
   "execution_count": 23,
   "metadata": {
    "scrolled": false
   },
   "outputs": [],
   "source": [
    "def forward_propagation(X, parameters):\n",
    "    '''This method implements forward propagation for neural network with one hidden layer.\n",
    "    This method is responsible for calculating Z value which is w1*x1 + w2*x2 + b and passing \n",
    "    this to activation function to get the y_hat value at each node of each layer.'''\n",
    "    forward_values = {}\n",
    "    w1 = parameters['W1']\n",
    "    b1 = parameters['B1']\n",
    "    w2 = parameters['W2']\n",
    "    b2 = parameters['B2']\n",
    "\n",
    "    # Calculating the z value and y_hat value at each layer.\n",
    "    z1 = np.dot(w1, X) + b1\n",
    "    a1 = sigmoid(z1)\n",
    "    z2 = np.dot(w2, a1) + b2\n",
    "    a2 = sigmoid(z2)\n",
    "    forward_values = {\n",
    "      'Z1' : z1,\n",
    "      'A1' : a1,\n",
    "      'Z2' : z2,\n",
    "      'A2' : a2\n",
    "    }\n",
    "    return forward_values"
   ]
  },
  {
   "cell_type": "code",
   "execution_count": 24,
   "metadata": {
    "scrolled": false
   },
   "outputs": [],
   "source": [
    "def backward_propagation(parameters, forward_values, X, y):\n",
    "    '''This method implements backward propagation of newral network with one hidden layer.\n",
    "    This method calculates the derivatives of weight and bias for each node and each layer.'''\n",
    "    backward_values = {}\n",
    "    w1 = parameters['W1']\n",
    "    a1 = forward_values['A1']\n",
    "    w2 = parameters['W2']\n",
    "    a2 = forward_values['A2']\n",
    "\n",
    "    # Back propagating to get the derivatives of weight and bias at each node and layer.\n",
    "    dz2 = a2 - y\n",
    "    dw2 = np.dot(dz2, a1.T)\n",
    "    db2 = np.sum(dz2, axis=1, keepdims=True)\n",
    "    dz1 = np.multiply(np.dot(w2.T, dz2) , (a1 - np.power(a1, 2)))\n",
    "    dw1 = np.dot(dz1, X)\n",
    "    db1 = np.sum(dz1, axis=1, keepdims=True)\n",
    "    backward_values = {\n",
    "      'DW1' : dw1,\n",
    "      'DW2' : dw2,\n",
    "      'DB1' : db1,\n",
    "      'DB2' : db2\n",
    "    }\n",
    "    return backward_values"
   ]
  },
  {
   "cell_type": "code",
   "execution_count": 25,
   "metadata": {
    "scrolled": false
   },
   "outputs": [],
   "source": [
    "def update_weights(parameters, backward_values, learning_rate):\n",
    "    '''This method updates the weight and bias values to get their optimal values.'''\n",
    "    parameters_updated = {}\n",
    "    # Fetching the old weights and bias.\n",
    "    w1 = parameters['W1']\n",
    "    b1 = parameters['B1']\n",
    "    w2 = parameters['W2']\n",
    "    b2 = parameters['B2']\n",
    "\n",
    "    # Fetching the derivatives calculated at back propagation step.\n",
    "    dw1 = backward_values['DW1']\n",
    "    dw2 = backward_values['DW2']\n",
    "    db1 = backward_values['DB1']\n",
    "    db2 = backward_values['DB2']\n",
    "\n",
    "    # Updating weights and bias.\n",
    "    w1 = w1 - learning_rate * dw1\n",
    "    w2 = w2 - learning_rate * dw2\n",
    "    b1 = b1 - learning_rate * db1\n",
    "    b2 = b2 - learning_rate * db2\n",
    "\n",
    "    parameters_updated = {\n",
    "      'W1' : w1,\n",
    "      'W2' : w2,\n",
    "      'B1' : b1,\n",
    "      'B2' : b2\n",
    "    }\n",
    "    return parameters_updated"
   ]
  },
  {
   "cell_type": "code",
   "execution_count": 26,
   "metadata": {
    "scrolled": false
   },
   "outputs": [],
   "source": [
    "def model(X_train, y_train, num_iterations, learning_rate):\n",
    "    '''This method integrates the shallow neural network steps and returns the optimal parameters obtained.'''\n",
    "    # Initialize weights and bias\n",
    "    parameters = initialize(3, X_train.shape[1])\n",
    "    costs = []\n",
    "    J_prev = 0\n",
    "\n",
    "    # Iterating for maximum number of iterations.\n",
    "    for i in range(num_iterations):\n",
    "        # Selecting a random row from training set.\n",
    "        random_indices = np.random.choice(X_train.shape[0], size=1, replace=False)\n",
    "        # Obtaining one training example for stochastic gradient descent.\n",
    "        X_SGD = X_train[random_indices, :]\n",
    "        y_SGD = y_train[random_indices]\n",
    "\n",
    "        # Forward Propagation\n",
    "        forward_values = forward_propagation(X_SGD.T, parameters)\n",
    "\n",
    "        # Cost function\n",
    "        current_cost = cost_func(y_SGD, forward_values['A2'])\n",
    "        costs.append(current_cost[0])\n",
    "        if(abs(current_cost - J_prev) < 0.000001):\n",
    "            break\n",
    "\n",
    "        # Backward propagation\n",
    "        backward_values = backward_propagation(parameters, forward_values, X_SGD, y_SGD)\n",
    "\n",
    "        # Update parameters\n",
    "        parameters = update_weights(parameters, backward_values, learning_rate)\n",
    "        J_prev = current_cost\n",
    "\n",
    "    return parameters, costs"
   ]
  },
  {
   "cell_type": "code",
   "execution_count": 27,
   "metadata": {
    "scrolled": false
   },
   "outputs": [],
   "source": [
    "def accuracy_NN(X_test, y_test, parameters, y_hat):\n",
    "    '''This method converts the y_hat to binary form based on a threshold value i.e. 0.5\n",
    "    and calculates the accuracy of the model.'''\n",
    "    \n",
    "    # Forward propagating with optimal weights and bias.\n",
    "    values_test = forward_propagation(X_test.T, parameters)\n",
    "    # Obtaining the y_hat value of output layer.\n",
    "    y_pred = values_test[y_hat]\n",
    "    # Since y_pred returns a list of 1 row and multiple columns, we\n",
    "    y_pred_new = y_pred[0]\n",
    "    for x in range(len(y_pred_new)):\n",
    "        # Doing binary classification based on a threshold value (0.5).\n",
    "        if y_pred_new[x]>=0.5:\n",
    "            y_pred_new[x]=1\n",
    "        else:\n",
    "            y_pred_new[x]=0\n",
    "    accr = accuracy_score(y_test, y_pred_new) * 100\n",
    "    return accr\n"
   ]
  },
  {
   "cell_type": "code",
   "execution_count": 822,
   "metadata": {
    "scrolled": true
   },
   "outputs": [
    {
     "name": "stdout",
     "output_type": "stream",
     "text": [
      "blobs300\n"
     ]
    },
    {
     "data": {
      "image/png": "[encoded data removed]",
      "text/plain": [
       "<Figure size 432x288 with 1 Axes>"
      ]
     },
     "metadata": {
      "needs_background": "light"
     },
     "output_type": "display_data"
    },
    {
     "name": "stdout",
     "output_type": "stream",
     "text": [
      "circles600\n"
     ]
    },
    {
     "data": {
      "image/png": "[encoded data removed]",
      "text/plain": [
       "<Figure size 432x288 with 1 Axes>"
      ]
     },
     "metadata": {
      "needs_background": "light"
     },
     "output_type": "display_data"
    },
    {
     "name": "stdout",
     "output_type": "stream",
     "text": [
      "   Blobs    Circles\n",
      "0  100.0  94.444444\n"
     ]
    }
   ],
   "source": [
    "import warnings\n",
    "warnings.filterwarnings(\"ignore\")\n",
    "def shallow_NN(filename):\n",
    "    '''This method creates the dataset, trains the model and obtains the accuracy of the model.'''\n",
    "    X, y, X_train, y_train, X_val, X_test, y_val, y_test= read_file(filename)\n",
    "    parameters, costs = model(X_train, y_train, 10000, 0.01)\n",
    "    print(filename[:-4])\n",
    "    # plot the cost\n",
    "    plt.plot(costs)\n",
    "    plt.ylabel('cost')\n",
    "    plt.xlabel('Iterations')\n",
    "    plt.title(\"Variation in costs\")\n",
    "    plt.show()\n",
    "    accr = accuracy_NN(X_test, y_test, parameters, 'A2')\n",
    "    return accr\n",
    "\n",
    "accuracies = pd.DataFrame()\n",
    "accuracies = accuracies.append({'Blobs' : shallow_NN('blobs300.csv'), \n",
    "                                'Circles' : shallow_NN('circles600.csv')}, ignore_index = True)\n",
    "print(accuracies)\n"
   ]
  },
  {
   "cell_type": "markdown",
   "metadata": {},
   "source": [
    "##### Observation \n",
    "\n",
    "As expected, shallow neural network gave better accuracy on circles dataset than part 1. This owes to the presence of multiple logistic regressors in the neural network which allows generation of multiple boundaries (depending on the number of regressors in the network).\n"
   ]
  },
  {
   "cell_type": "markdown",
   "metadata": {},
   "source": [
    "### Part 4: CIFAR10 Dataset"
   ]
  },
  {
   "cell_type": "code",
   "execution_count": 28,
   "metadata": {
    "scrolled": false
   },
   "outputs": [],
   "source": [
    "def unpickle(file):\n",
    "    '''This function is taken from the assignment notes to open a pickled\n",
    "    file and return a dictionary of data and labels.'''\n",
    "    import pickle\n",
    "    with open(file, 'rb') as fo:\n",
    "        dict = pickle.load(fo, encoding='bytes')\n",
    "    return dict\n",
    "\n",
    "def loadbatch(batchname):\n",
    "    '''This function loads the batch files from a folder. This function is also \n",
    "    taken from assignment notes.'''\n",
    "    folder = 'cifar-10-batches-py'\n",
    "    batch = unpickle(folder+\"/\"+batchname)\n",
    "    return batch\n",
    "\n",
    "def loadlabelnames():\n",
    "    '''This function is taken from assignment notes and loads the label name\n",
    "    from a batch file.'''\n",
    "    folder = 'cifar-10-batches-py'\n",
    "    meta = unpickle(folder+\"/\"+'batches.meta')\n",
    "    return meta[b'label_names']"
   ]
  },
  {
   "cell_type": "code",
   "execution_count": 29,
   "metadata": {
    "scrolled": false
   },
   "outputs": [],
   "source": [
    "def load_data(): \n",
    "    '''This function loads the batch 1 data and fetches the deer and ship data to create X and y.'''\n",
    "    batch1 = loadbatch('data_batch_1')\n",
    "    data = batch1[b'data']\n",
    "    labels = batch1[b'labels']\n",
    "    names = loadlabelnames()\n",
    "    # Fetching only the red channel from the dataset.\n",
    "    channel = data[:,:1024]\n",
    "    batch_labels = np.array([labels]).T\n",
    "    labelled_data = np.append(channel,batch_labels,axis=1)\n",
    "    # Deer and ship data are at index 4 and 8.\n",
    "    deer= labelled_data[labelled_data[:,-1] == 4]\n",
    "    ship = labelled_data[labelled_data[:,-1] == 8]\n",
    "    y = np.concatenate((deer,ship),axis=0)\n",
    "\n",
    "    # Obtaining the class value of deer and ship and converting it to binary form.\n",
    "    Y = y[:,[-1]]\n",
    "    Y[Y==4] = 0\n",
    "    Y[Y==8] = 1\n",
    "\n",
    "    # Creating the feature array X.\n",
    "    X = np.delete(y,-1,1)\n",
    "    # Dividing the dataset in 70:15:15 ratio for training, validation and test set.\n",
    "    X_train_cifar, X_test_cifar, Y_train_cifar, Y_test_cifar = train_test_split(X, Y, \n",
    "                                               test_size=0.15)\n",
    "    # Validation set\n",
    "    X_train_cifar, X_val_cifar, Y_train_cifar, Y_val_cifar = train_test_split(X_train_cifar,\n",
    "                                                                              Y_train_cifar, test_size= 0.15)\n",
    "\n",
    "    # Normalising the data as the data in the input vector varies between 0 to 255.\n",
    "    # Normalising them near 0/1 value will help speed up the training. \n",
    "    # Since stochastic gradient descent is used, it will prevent getting stuck in local optima.\n",
    "    X_train_cifar = X_train_cifar/255\n",
    "    X_test_cifar = X_test_cifar/255\n",
    "    X_val_cifar = X_val_cifar/255\n",
    "    return X_train_cifar, X_test_cifar, Y_train_cifar, Y_test_cifar, X_val_cifar, Y_val_cifar"
   ]
  },
  {
   "cell_type": "code",
   "execution_count": 873,
   "metadata": {
    "scrolled": false
   },
   "outputs": [
    {
     "data": {
      "image/png": "[encoded data removed]",
      "text/plain": [
       "<Figure size 432x288 with 1 Axes>"
      ]
     },
     "metadata": {
      "needs_background": "light"
     },
     "output_type": "display_data"
    },
    {
     "name": "stdout",
     "output_type": "stream",
     "text": [
      "Accuracy of shallow Neural Network on CIFAR data:  69.73684210526315\n"
     ]
    }
   ],
   "source": [
    "def cifar():\n",
    "    '''This method creates the dataset, trains the model and obtains the accuracy of the model.'''\n",
    "    X_train_cifar, X_test_cifar, Y_train_cifar, Y_test_cifar,X_val_cifar, Y_val_cifar= load_data()\n",
    "    # Using a learning rate of 0.01\n",
    "    parameters, costs = model(X_train_cifar, Y_train_cifar, 10000, 0.01)\n",
    "    # plot the cost\n",
    "    plt.plot(costs)\n",
    "    plt.ylabel('cost')\n",
    "    plt.xlabel('Iterations')\n",
    "    plt.title(\"Variation in costs\")\n",
    "    plt.show()\n",
    "    accr = accuracy_NN(X_test_cifar, Y_test_cifar, parameters, 'A2')\n",
    "    return accr\n",
    "\n",
    "print('Accuracy of shallow Neural Network on CIFAR data: ', str(cifar()))"
   ]
  },
  {
   "cell_type": "markdown",
   "metadata": {},
   "source": [
    "##### Observations\n",
    "\n",
    "With stochastic gradient descent and one color channel, we have achieved an accuracy of 70% which is quite good, given, the data is unstructured and we have used only one hidden layer with three nodes."
   ]
  },
  {
   "attachments": {},
   "cell_type": "markdown",
   "metadata": {},
   "source": [
    "### Part 5: Deep Learning Enhancements\n",
    "\n",
    "### Section 1: Supporting arbitrary layers \n",
    "#### Author: Diksha Srivastava (21235117)\n",
    "\n",
    "I have done the following enhancements:\n",
    "\n",
    "1. I have made the code generic to support an arbitrary number of layers. In order to generalise, I have done the following steps:\n",
    "\n",
    "   a. I have taken as input layer_size and nodes. For a neural network with 2 hidden layers, layer_size = 4 (1 input layer, 2 hidden layers, 1 output layer), nodes = 3 means that each hidden layer will have 3 nodes. \n",
    "\n",
    "   b. I have initialised the weights and bias based on the number of layers and nodes. So for layer_size = 4, nodes = 3, W1, W2, W3 weights will be created with dimensions (3, 4 (input features)), (3, 3), (1, 3) respectively. The bias B1, B2, B3 will have dimension (3, 1), (3, 1), (1, 1) respectively.\n",
    "\n",
    "   c. The forward and backward propagation will be performed in a loop based on layer_size and the optimal weights and bias will be calculated.\n",
    "\n",
    "2. The second enhancement, I have done is L2 regularization.\n",
    "   Regularization is a technique to prevent overfitting by fitting the function on the given training set appropriately. In order to penalise more complex networks, a penalty term is added to the cost function. Regularization tends to make weights close to 0. The regularization parameter λ signifies how important the penalty is to the overall cost. The cost function is updated as follows:\n",
    "\n",
    "JW,b( y,ŷ) = 1/N ∑(i=1 to N)〖L(y,ŷ)〗 + λ/2N||W||(2,2)\n",
    "\n",
    "∆Wj,i[l] = ∆Zj[l] ai[l-1] +  (λ/N)Wj,i[l]\n",
    "\n",
    "Wj,i[l] - = α∆Wj,i[l] - Wj,i[l]\n"
   ]
  },
  {
   "cell_type": "code",
   "execution_count": 30,
   "metadata": {
    "scrolled": false
   },
   "outputs": [],
   "source": [
    "def initialize_layers(layers, layer_size, X, nodes):\n",
    "    '''This function initialise the weights and bias with some random initial values.'''\n",
    "    # Creating the size of matrix for each layer.\n",
    "    # Like if there are two hidden layers with 3 nodes L0: [4, 3], \n",
    "    # L1: [3,3], L2: [3,1]. These dimension will be used to initialise weights and bias matrix.\n",
    "    for i in range(layer_size-1):\n",
    "        if i==0:\n",
    "            layers['L' + str(i)] = [X.shape[1], nodes]\n",
    "        elif i==layer_size-2:\n",
    "            layers['L' + str(i)] = [nodes, 1]\n",
    "        else:\n",
    "            layers['L' + str(i)] = [nodes, nodes]\n",
    "    parameters = {}\n",
    "    i = 1\n",
    "    # Initialising weights based on number of layers.\n",
    "    for key, value in layers.items():\n",
    "        # value[1] is the to_nodes size and value[0] is the from_nodes size.\n",
    "        # A matrix of weights is created such that it's dimension is nodes * features.\n",
    "        # If there are 3 nodes in hidden layer and 4 features then weight will have\n",
    "        # dimension 3 * 4\n",
    "        parameters['W' + str(i)] = np.random.normal(0, 1, size = (value[1], value[0]))\n",
    "        parameters['B' + str(i)] = np.random.normal(0, 1, size = (value[1],1)) \n",
    "        i = i+1\n",
    "        \n",
    "    return parameters"
   ]
  },
  {
   "cell_type": "code",
   "execution_count": 31,
   "metadata": {
    "scrolled": false
   },
   "outputs": [],
   "source": [
    "def forward_propagation_layers(X, parameters, layer_size):\n",
    "    '''This function does forward propagation. It calculates the value of z and a (activation function)\n",
    "    at each node in each layer.'''\n",
    "    forward_values = {}\n",
    "    # Setting the z value and a value for each layer.\n",
    "    for i in range(1, layer_size):\n",
    "        # If the layer is 1 then the dot product is between w1, X else w2, a1.\n",
    "        if i == 1:\n",
    "            # Parameters have W and B values for each layer.\n",
    "            forward_values['Z' + str(i)] = np.dot(parameters['W' + str(i)], X) + parameters['B' + str(i)]\n",
    "        else:\n",
    "            # Forward values have Z and A value for each layer.\n",
    "            forward_values['Z' + str(i)] = np.dot(parameters['W' + str(i)], \n",
    "                                                  forward_values['A' + str(i-1)]) + parameters['B' + str(i)]\n",
    "        # Calculating the activation function for each layer.\n",
    "        forward_values['A' + str(i)] = sigmoid(forward_values['Z' + str(i)])\n",
    "    return forward_values"
   ]
  },
  {
   "cell_type": "code",
   "execution_count": 32,
   "metadata": {
    "scrolled": false
   },
   "outputs": [],
   "source": [
    "def backward_propagation_layers(parameters, forward_values, X, y, layer_size):\n",
    "    '''This function back propagates. It calculates the value of derivates of weights and bias\n",
    "    on each node at each layer.'''\n",
    "    backward_values = {}\n",
    "    \n",
    "    # Calculating DZ, DW, and DB value for the output layer. For 2 hidden layers, the following will be calculated.\n",
    "    #     dz3 = a3 - y\n",
    "    #     dw3 = np.dot(dz3, a2.T)\n",
    "    #     db3 = np.sum(dz3, axis=1, keepdims=True)\n",
    "    backward_values['DZ' + str(layer_size - 1)] = forward_values['A' + str(layer_size - 1)] - y\n",
    "    backward_values['DW' + str(layer_size - 1)] = np.dot(backward_values['DZ' + str(layer_size - 1)], \n",
    "                                                        forward_values['A' + str(layer_size - 2)].T)\n",
    "    backward_values['DB' + str(layer_size - 1)] = np.sum(backward_values['DZ' + str(layer_size - 1)],\n",
    "                                                        axis = 1, keepdims = True)\n",
    "    \n",
    "    # Propagating backwards to get the derivatives of weights and bias.\n",
    "    #     For Hidden Layer 2, the following will be calculated.\n",
    "    #     dz2 = np.multiply(np.dot(w3.T, dz3) , (a2 - np.power(a2, 2)))\n",
    "    #     dw2 = np.dot(dz2, a1.T)\n",
    "    #     db2 = np.sum(dz2, axis=1, keepdims=True)\n",
    "    for i in range(layer_size - 2, 0, -1):\n",
    "        backward_values['DZ' + str(i)] = np.multiply(np.dot(parameters['W' + str(i+1)].T,\n",
    "                                                            backward_values['DZ' + str(i+1)]),\n",
    "                                                    (forward_values['A' + str(i)] - np.power(\n",
    "                                                    forward_values['A' + str(i)], 2)))\n",
    "        #     For Hidden Layer 1, dw1 will be calculated as a dot product of dz1 and X.\n",
    "        #     dz1 = np.multiply(np.dot(w2.T, dz2) , (a1 - np.power(a1, 2)))\n",
    "        #     dw1 = np.dot(dz1, X)\n",
    "        #     db1 = np.sum(dz1, axis=1, keepdims=True)\n",
    "        if i==1:\n",
    "            backward_values['DW' + str(i)] = np.dot(backward_values['DZ' + str(i)], X)\n",
    "        else:\n",
    "            backward_values['DW' + str(i)] = np.dot(backward_values['DZ' + str(i)], forward_values['A' + str(i-1)].T)\n",
    "        backward_values['DB' + str(i)] = np.sum(backward_values['DZ' + str(i)], axis = 1, keepdims = True)\n",
    "    return backward_values"
   ]
  },
  {
   "cell_type": "code",
   "execution_count": 33,
   "metadata": {
    "scrolled": false
   },
   "outputs": [],
   "source": [
    "def update_weights_layers(parameters, backward_values, learning_rate, layer_size):\n",
    "    '''This function updates the weights and bias at each node and layer.'''\n",
    "    parameters_updated = {}\n",
    "    \n",
    "    # For 2 hidden layers, the following will be calculated.\n",
    "    #     w1 = w1 - learning_rate * dw1\n",
    "    #     w2 = w2 - learning_rate * dw2\n",
    "    #     w3 = w3 - learning_rate * dw3\n",
    "    #     b1 = b1 - learning_rate * db1\n",
    "    #     b2 = b2 - learning_rate * db2\n",
    "    #     b3 = b3 - learning_rate * db3\n",
    "    # Parameters contain old W and B values. Backward values contain the derivatives of DW and DB values.\n",
    "    for i in range(1, layer_size):\n",
    "        parameters_updated['W' + str(i)] = parameters['W' + str(i)] - learning_rate * backward_values['DW' + str(i)]\n",
    "        parameters_updated['B' + str(i)] = parameters['B' + str(i)] - learning_rate * backward_values['DB' + str(i)]\n",
    "    return parameters_updated"
   ]
  },
  {
   "cell_type": "code",
   "execution_count": 67,
   "metadata": {
    "scrolled": false
   },
   "outputs": [],
   "source": [
    "def model_layer(X_train, y_train, num_iterations, learning_rate, layer_size, nodes):\n",
    "    '''This function integrates the arbitrary neural network and returns the optimal weights and bias. '''\n",
    "    # Layer dictionary helps in initialising the weights and bias matrix dimesion. \n",
    "    # It contains three layers with a list having the size of from_nodes, to_nodes respectively.\n",
    "    layers = {}\n",
    "    costs = []\n",
    "    J_prev = 0\n",
    "    # Initialize weights and bias\n",
    "    parameters = initialize_layers(layers, layer_size, X_train, nodes)\n",
    "    \n",
    "    for i in range(num_iterations):\n",
    "        # Selecting a random row from training set to implement stochastic gradient descent.\n",
    "        random_indices = np.random.choice(X_train.shape[0], size=1, replace=False)\n",
    "        X_SGD = X_train[random_indices, :]\n",
    "        y_SGD = y_train[random_indices]\n",
    "        \n",
    "        # Forward Propagation\n",
    "        forward_values = forward_propagation_layers(X_SGD.T, parameters, layer_size)\n",
    "        \n",
    "        # Cost function\n",
    "        current_cost = cost_func(y_SGD, forward_values['A' + str(layer_size-1)])\n",
    "        costs.append(current_cost[0])\n",
    "        if(abs(current_cost - J_prev) < 0.000001):\n",
    "            break\n",
    "        \n",
    "        # Backward propagation\n",
    "        backward_values = backward_propagation_layers(parameters, forward_values, X_SGD, y_SGD, layer_size)\n",
    "        \n",
    "        # Update parameters\n",
    "        parameters = update_weights_layers(parameters, backward_values, learning_rate, layer_size)\n",
    "        J_prev = current_cost\n",
    "    return parameters, costs"
   ]
  },
  {
   "cell_type": "code",
   "execution_count": 41,
   "metadata": {
    "scrolled": false
   },
   "outputs": [],
   "source": [
    "def accuracy_deepNN(X_test, y_test, parameters, layer_size):\n",
    "    '''This method converts the y_hat to binary form based on a threshold value i.e. 0.5\n",
    "    and calculates the accuracy of the model.'''\n",
    "    \n",
    "    # Forward propagating with optimal weights and bias.\n",
    "    values_test = forward_propagation_layers(X_test.T, parameters, layer_size)\n",
    "    # Obtaining the y_hat value of output layer.\n",
    "    y_pred = values_test['A' + str(layer_size-1)]\n",
    "    # Since y_pred returns a list of 1 row and multiple columns, we\n",
    "    y_pred_new = y_pred[0]\n",
    "    for x in range(len(y_pred_new)):\n",
    "        # Doing binary classification based on a threshold value (0.5).\n",
    "        if y_pred_new[x]>=0.5:\n",
    "            y_pred_new[x]=1\n",
    "        else:\n",
    "            y_pred_new[x]=0\n",
    "    accr = accuracy_score(y_test, y_pred_new) * 100\n",
    "    return accr"
   ]
  },
  {
   "cell_type": "code",
   "execution_count": 62,
   "metadata": {
    "scrolled": false
   },
   "outputs": [
    {
     "data": {
      "image/png": "[encoded data removed]",
      "text/plain": [
       "<Figure size 432x288 with 1 Axes>"
      ]
     },
     "metadata": {
      "needs_background": "light"
     },
     "output_type": "display_data"
    },
    {
     "name": "stdout",
     "output_type": "stream",
     "text": [
      "Accuracy of Deep Neural Network on CIFAR data:  75.0\n"
     ]
    }
   ],
   "source": [
    "def deep_NN():\n",
    "    '''This method creates the dataset, trains the model and obtains the accuracy of the model.'''\n",
    "    X_train_cifar, X_test_cifar, Y_train_cifar, Y_test_cifar, X_val_cifar, Y_val_cifar= load_data()\n",
    "    layer_size = 4\n",
    "    nodes = 3\n",
    "    parameters, costs = model_layer(X_train_cifar, Y_train_cifar, 10000, 0.01, layer_size, nodes)\n",
    "    # plot the cost\n",
    "    plt.plot(costs)\n",
    "    plt.ylabel('cost')\n",
    "    plt.xlabel('Iterations')\n",
    "    plt.title(\"Variation in costs\")\n",
    "    plt.show()\n",
    "    accr = accuracy_deepNN(X_test_cifar, Y_test_cifar, parameters, layer_size)\n",
    "    return accr\n",
    "\n",
    "print('Accuracy of Deep Neural Network on CIFAR data: ', str(deep_NN()))"
   ]
  },
  {
   "cell_type": "markdown",
   "metadata": {},
   "source": [
    "##### Observations\n",
    "When training the deep neural network on 2 hidden layers and 3 nodes in each layer, we have obtained an accuracy of 75%. It is better than what we got in shallow neural network as it only supported one hidden layer. "
   ]
  },
  {
   "cell_type": "markdown",
   "metadata": {},
   "source": [
    "### Enhancement 1: L2 Regularization"
   ]
  },
  {
   "cell_type": "code",
   "execution_count": 63,
   "metadata": {
    "scrolled": false
   },
   "outputs": [],
   "source": [
    "def cost_func_regularization(reg_rate, y_hat, y, N, parameters, layer_size):\n",
    "    '''This function implements the cost function with a regularization factor to avoid overfitting.'''\n",
    "    weights_sum = 0\n",
    "    # Calculating the regularization factor\n",
    "    for i in range(1, layer_size):\n",
    "        weights_sum = weights_sum + np.sum(np.square(parameters['W' + str(i)]))\n",
    "    regularized_factor = (reg_rate / 2*N) * weights_sum\n",
    "    # Adding the regularized factor/penalty term to the cost.\n",
    "    cost = -1/ N * ((y*np.log(y_hat) + (1-y)*np.log(1-y_hat))) + regularized_factor\n",
    "    return cost"
   ]
  },
  {
   "cell_type": "code",
   "execution_count": 64,
   "metadata": {
    "scrolled": false
   },
   "outputs": [],
   "source": [
    "def backward_propagation_regularized(reg_rate, parameters, forward_values, X, y, layers, N, layer_size):\n",
    "    '''This function back propagates. It calculates the value of derivates of weights and bias\n",
    "    on each node at each layer.'''\n",
    "    backward_values = {}\n",
    "    \n",
    "    # Output layer\n",
    "    # If there are 2 hidden layers, then the following values will be generated.\n",
    "    #     dz3 = a3 - y\n",
    "    #     dw3 = np.dot(dz3, a2.T) + (reg_rate/N) * w3\n",
    "    #     db3 = np.sum(dz3, axis=1, keepdims=True)\n",
    "    backward_values['DZ' + str(layer_size - 1)] = forward_values['A' + str(layer_size - 1)] - y\n",
    "    # Adding the penalty term for higher weights also known as weight decay.\n",
    "    backward_values['DW' + str(layer_size - 1)] = np.dot(backward_values['DZ' + str(layer_size - 1)], \n",
    "                                                        forward_values[\n",
    "                                                            'A' + str(layer_size - 2)].T) + (reg_rate/N) *  parameters[\n",
    "        'W' + str(layer_size-1)]\n",
    "    backward_values['DB' + str(layer_size - 1)] = np.sum(backward_values['DZ' + str(layer_size - 1)],\n",
    "                                                        axis = 1, keepdims = True)\n",
    "\n",
    "    # For hidden layers, following values will be generated.\n",
    "    #     dz2 = np.multiply(np.dot(w3.T, dz3) , (a2 - np.power(a2, 2)))\n",
    "    #     dw2 = np.dot(dz2, a1.T) + (reg_rate/N) * w2\n",
    "    #     db2 = np.sum(dz2, axis=1, keepdims=True)\n",
    "    for i in range(layer_size - 2, 0, -1):\n",
    "        backward_values['DZ' + str(i)] = np.multiply(np.dot(parameters['W' + str(i+1)].T,\n",
    "                                                            backward_values['DZ' + str(i+1)]),\n",
    "                                                    (forward_values['A' + str(i)] - np.power(\n",
    "                                                    forward_values['A' + str(i)], 2)))\n",
    "        # Adding the penalty term for higher weights also known as weight decay.\n",
    "        if i==1:\n",
    "            backward_values['DW' + str(i)] = np.dot(backward_values['DZ' + str(i)], \n",
    "                                                    X) + (reg_rate/N) *  parameters['W' + str(i)]\n",
    "        else:\n",
    "            backward_values['DW' + str(i)] = np.dot(backward_values['DZ' + str(i)],\n",
    "                                                    forward_values['A' + str(i-1)].T) + (reg_rate/N) *  parameters[\n",
    "                'W' + str(i)]\n",
    "        backward_values['DB' + str(i)] = np.sum(backward_values['DZ' + str(i)], axis = 1, keepdims = True)\n",
    "    \n",
    "    return backward_values"
   ]
  },
  {
   "cell_type": "code",
   "execution_count": 65,
   "metadata": {
    "scrolled": false
   },
   "outputs": [],
   "source": [
    "def update_weights_regularized(reg_rate, parameters, backward_values, learning_rate, N, layer_size):\n",
    "    '''This function updates the weights and bias at each node and layer.'''\n",
    "    parameters_updated = {}\n",
    "    \n",
    "    # Updating weights by reducing the weight with lambda/2N * w value.\n",
    "    for i in range(1, layer_size):\n",
    "        parameters_updated['W' + str(i)] = parameters['W' + str(i)] - learning_rate * backward_values[\n",
    "            'DW' + str(i)] - (learning_rate * reg_rate/N) * parameters['W' + str(i)]\n",
    "        parameters_updated['B' + str(i)] = parameters['B' + str(i)] - learning_rate * backward_values['DB' + str(i)]\n",
    "        \n",
    "    return parameters_updated"
   ]
  },
  {
   "cell_type": "code",
   "execution_count": 68,
   "metadata": {
    "scrolled": false
   },
   "outputs": [],
   "source": [
    "def model_regularized(X_train, y_train, num_iterations, learning_rate, layer_size, nodes):\n",
    "    '''This function integrates the arbitrary neural network and returns the optimal weights and bias. '''\n",
    "    # Layer dictionary helps in initialising the weights and bias matrix dimesion. \n",
    "    # It contains three layers with a list having the size of from_nodes, to_nodes respectively.\n",
    "    layers = {}\n",
    "    costs = []\n",
    "    J_prev = 0\n",
    "    # Initialize weights and bias\n",
    "    parameters = initialize_layers(layers, layer_size, X_train, nodes)\n",
    "    # Lambda value of regularization.\n",
    "    reg_rate = 0.001\n",
    "    \n",
    "    for i in range(num_iterations):\n",
    "        # Selecting a random row from training set for stochastic gradient descent.\n",
    "        random_indices = np.random.choice(X_train.shape[0], size=1, replace=False)\n",
    "        X_SGD = X_train[random_indices, :]\n",
    "        y_SGD = y_train[random_indices]\n",
    "        \n",
    "        # Forward Propagation\n",
    "        forward_values = forward_propagation_layers(X_SGD.T, parameters, layer_size)\n",
    "        \n",
    "        # Cost function\n",
    "        current_cost = cost_func_regularization(reg_rate, forward_values['A3'], y_SGD,\n",
    "                                                X_SGD.shape[0] , parameters, layer_size)\n",
    "        costs.append(current_cost[0])\n",
    "        if(abs(current_cost - J_prev) < 0.000001):\n",
    "            break\n",
    "        \n",
    "        # Backward propagation\n",
    "        backward_values = backward_propagation_regularized(reg_rate, parameters, forward_values, X_SGD, y_SGD, len(layers),\n",
    "                                                          X_SGD.shape[0], layer_size)\n",
    "        \n",
    "        # Update parameters\n",
    "        parameters = update_weights_regularized(reg_rate, parameters, backward_values, learning_rate, X_SGD.shape[0],\n",
    "                                                layer_size)\n",
    "        J_prev = current_cost\n",
    "    return parameters, costs\n"
   ]
  },
  {
   "cell_type": "code",
   "execution_count": 87,
   "metadata": {
    "scrolled": false
   },
   "outputs": [
    {
     "data": {
      "image/png": "[encoded data removed]",
      "text/plain": [
       "<Figure size 432x288 with 1 Axes>"
      ]
     },
     "metadata": {
      "needs_background": "light"
     },
     "output_type": "display_data"
    },
    {
     "name": "stdout",
     "output_type": "stream",
     "text": [
      "Accuracy of Regularized Deep Neural Network on CIFAR data:  72.03947368421053\n"
     ]
    }
   ],
   "source": [
    "def deep_NN_regularized():\n",
    "    '''This method creates the dataset, trains the model and obtains the accuracy of the model.'''\n",
    "    X_train_cifar, X_test_cifar, Y_train_cifar, Y_test_cifar, X_val_cifar, Y_val_cifar= load_data()\n",
    "    layer_size = 4\n",
    "    nodes = 3\n",
    "    parameters, costs = model_regularized(X_train_cifar, Y_train_cifar, 10000, 0.01, layer_size, nodes)\n",
    "    # plot the cost\n",
    "    plt.plot(costs)\n",
    "    plt.ylabel('cost')\n",
    "    plt.xlabel('Iterations')\n",
    "    plt.title(\"Variation in costs\")\n",
    "    plt.show()\n",
    "    accr = accuracy_deepNN(X_test_cifar, Y_test_cifar, parameters, layer_size)\n",
    "    return accr\n",
    "\n",
    "print('Accuracy of Regularized Deep Neural Network on CIFAR data: ', str(deep_NN_regularized()))"
   ]
  },
  {
   "cell_type": "markdown",
   "metadata": {},
   "source": [
    "##### Observations\n",
    "After performing regularization, the accuracy decreased slightly as regularization adds penalty to higher weights."
   ]
  },
  {
   "cell_type": "markdown",
   "metadata": {},
   "source": [
    "### Section 2: Support Arbitrary layers\n",
    "\n",
    "#### Saumya Goel (21238562)\n",
    "\n",
    "As suggested, the algorithm is modified to include as many layers as required. Currently, it is working for 2 hidden layers and 3 nodes per layer. It can be extended just by adding values to layers[]."
   ]
  },
  {
   "cell_type": "code",
   "execution_count": 96,
   "metadata": {},
   "outputs": [],
   "source": [
    "def initialize_layers(layers):\n",
    "    '''Initializing the weights and bias with small random values.\n",
    "    The dimension of weights when propagating to first hidden layer is nodes * features.\n",
    "    The dimension of weights when propagating from hidden layer to output layer is 1 * nodes.'''\n",
    "    parameters = {}\n",
    "\n",
    "    for i in range(1,len(layers)):\n",
    "      parameters['W'+ str(i)] = np.random.normal(0, 1, size = (layers[i], layers[i-1]))\n",
    "      parameters['B'+ str(i)] = np.random.normal(0, 1, size = (layers[i],1))\n",
    "\n",
    "    return parameters\n",
    "\n",
    "def forward_propagation_layers(X, parameters):\n",
    "    '''This function does forward propagation. It calculates the value of z and a (activation function)\n",
    "    at each node in each layer.'''\n",
    "    forward_values = {}\n",
    "    for i in range(1,(len(parameters)//2)+1):\n",
    "      if i == 1:\n",
    "        forward_values['Z' + str(i)] = np.dot(parameters['W' + str(i)],X) + parameters['B' + str(i)]\n",
    "        forward_values['A' + str(i)] = sigmoid(forward_values['Z' + str(i)])\n",
    "\n",
    "      else:\n",
    "        forward_values['Z' + str(i)] = np.dot(parameters['W' + str(i)], forward_values['A' + str(i-1)]) + parameters['B' + str(i)]\n",
    "        forward_values['A' + str(i)] = sigmoid(forward_values['Z' + str(i)])\n",
    "\n",
    "    return forward_values\n",
    "\n",
    "def backward_propagation_layers(parameters, forward_values, X, y):\n",
    "    '''This function back propagates. It calculates the value of derivates of weights and bias\n",
    "    on each node at each layer.'''\n",
    "    backward_values = {}\n",
    "\n",
    "    # Obtaining the values of w (weights) and a (activation function).\n",
    "\n",
    "    for i in range(len(parameters)//2,0,-1):\n",
    "    \n",
    "      # Output layer\n",
    "      if i == len(parameters)/2:\n",
    "        dz = forward_values['A' + str(i)] - y\n",
    "        backward_values['dw' + str(i)] = np.dot(dz, forward_values['A' + str(i-1)].T)\n",
    "        backward_values['db' + str(i)] = np.sum(forward_values['A' + str(i)] - y, axis=1, keepdims=True)\n",
    "\n",
    "      # Hidden Layer\n",
    "      else:\n",
    "        dzl = dz\n",
    "        dz = np.multiply(np.dot(parameters['W' + str(i+1)].T, dzl), \n",
    "                                                      (forward_values['A' + str(i)] - np.power(forward_values['A' + str(i)],2)) )\n",
    "        if i == 1:        \n",
    "          backward_values['dw' + str(i)] = np.dot(dz, X)\n",
    "          backward_values['db' + str(i)] = np.sum(dz , axis=1, keepdims=True)  \n",
    "        else:\n",
    "          backward_values['dw' + str(i)] = np.dot(dz, forward_values['A' + str(i-1)].T)\n",
    "          backward_values['db' + str(i)] = np.sum(dz , axis=1, keepdims=True)  \n",
    "\n",
    "    return backward_values\n",
    "\n",
    "def update_weights_layers(parameters, backward_values, learning_rate):\n",
    "    '''This function updates the weights and bias at each node and layer.'''\n",
    "    parameters_updated = {} \n",
    "\n",
    "    # Updating weights.\n",
    "    for i in range(1,(len(parameters)//2)+1):\n",
    "      parameters_updated['W' + str(i)] = parameters['W' + str(i)] - learning_rate * backward_values['dw' + str(i)]\n",
    "      parameters_updated['B' + str(i)] = parameters['B' + str(i)] - learning_rate * backward_values['db' + str(i)]\n",
    "\n",
    "    return parameters_updated"
   ]
  },
  {
   "cell_type": "code",
   "execution_count": 98,
   "metadata": {},
   "outputs": [],
   "source": [
    "def model_layer(X_train, y_train,layers, num_iterations, learning_rate, convergence_threshold):\n",
    "    '''This method integrates the shallow neural network steps and returns the optimal parameters obtained.'''\n",
    "    # Initialize weights and bias\n",
    "    parameters = initialize_layers(layers)\n",
    "    costs = []\n",
    "    J_prev = 0\n",
    "    # Iterating for maximum number of iterations.\n",
    "    for i in range(num_iterations):\n",
    "        # Selecting a random row from training set.\n",
    "        random_indices = np.random.choice(X_train.shape[0], size=1, replace=False)\n",
    "        # Obtaining one training example for stochastic gradient descent.\n",
    "        X_SGD = X_train[random_indices, :]\n",
    "        y_SGD = y_train[random_indices]\n",
    "\n",
    "        # Forward Propagation\n",
    "        forward_values = forward_propagation_layers(X_SGD.T, parameters)\n",
    "\n",
    "        # Cost function\n",
    "        current_cost = cost_func(forward_values['A' + str(len(layers)-1)], y_SGD)\n",
    "        \n",
    "        if(abs(J_prev - current_cost) < convergence_threshold):\n",
    "         break\n",
    "        \n",
    "        costs.append(current_cost[0])\n",
    "\n",
    "        # Backward propagation\n",
    "        backward_values = backward_propagation_layers(parameters, forward_values, X_SGD, y_SGD)\n",
    "\n",
    "        # Update parameters\n",
    "        parameters = update_weights_layers(parameters, backward_values, learning_rate)\n",
    "        \n",
    "    J_prev = current_cost\n",
    "\n",
    "    return parameters, costs"
   ]
  },
  {
   "cell_type": "code",
   "execution_count": 99,
   "metadata": {},
   "outputs": [],
   "source": [
    "def accuracy_NN(X_test, y_test, parameters, y_hat):\n",
    "    '''This method converts the y_hat to binary form based on a threshold value i.e. 0.5\n",
    "    and calculates the accuracy of the model.'''\n",
    "    \n",
    "    # Forward propagating with optimal weights and bias.\n",
    "    values_test = forward_propagation_layers(X_test.T, parameters)\n",
    "    # Obtaining the y_hat value of output layer.\n",
    "    y_pred = values_test[y_hat]\n",
    "    # Since y_pred returns a list of 1 row and multiple columns, we\n",
    "    y_pred_new = y_pred[0]\n",
    "    for x in range(len(y_pred_new)):\n",
    "        # Doing binary classification based on a threshold value (0.5).\n",
    "        if y_pred_new[x]>=0.5:\n",
    "            y_pred_new[x]=1\n",
    "        else:\n",
    "            y_pred_new[x]=0\n",
    "    accr = accuracy_score(y_test, y_pred_new) * 100\n",
    "    return accr"
   ]
  },
  {
   "cell_type": "code",
   "execution_count": 104,
   "metadata": {},
   "outputs": [
    {
     "name": "stdout",
     "output_type": "stream",
     "text": [
      "Accuracy of Deep Neural Network on CIFAR data:  72.69736842105263\n"
     ]
    }
   ],
   "source": [
    "import warnings\n",
    "warnings.filterwarnings(\"ignore\")\n",
    "def deep_NN():\n",
    "    '''This method creates the dataset, trains the model and obtains the accuracy of the model.'''\n",
    "    X_train_cifar, X_test_cifar, Y_train_cifar, Y_test_cifar, X_val_cifar, Y_val_cifar= load_data()\n",
    "    #Number of layers and nodes are defined here. length of layer is the total number of layers in the network and \n",
    "    #values in the layer list are the number of nodes\n",
    "    layers = [X_train_cifar.shape[1], 3, 3, 1]\n",
    "    #identifies output layer\n",
    "    output_pred = 'A' + str(len(layers)-1)\n",
    "    parameters, costs = model_layer(X_train_cifar, Y_train_cifar,layers, 10000, 0.01, 0.000001)\n",
    "    # plot the cost\n",
    "#     plt.plot(costs)\n",
    "#     plt.ylabel('cost')\n",
    "#     plt.xlabel('Iterations')\n",
    "#     plt.title(\"Variation in costs\")\n",
    "#     plt.show()\n",
    "    accr = accuracy_NN(X_test_cifar, Y_test_cifar, parameters, output_pred)\n",
    "    return accr\n",
    "\n",
    "print('Accuracy of Deep Neural Network on CIFAR data: ', str(deep_NN()))"
   ]
  },
  {
   "cell_type": "markdown",
   "metadata": {},
   "source": [
    "### Enhancement 2 : Backprop with momentum\n",
    "\n",
    "Backpropagation with momentum is one of the optimization algorithms which is used for following reasons:\n",
    "\n",
    "1. Every parameter should be updated on its own rate instead of being updated by learning parameter only.\n",
    "2. Helps accelerate gradients vectors in the right directions\n",
    "3. Faster convergence\n",
    "4. It works well with stochastic gradient descent\n",
    "5. It helps in reducing noise\n",
    "6. It is simple as it calculates only one extra value"
   ]
  },
  {
   "cell_type": "code",
   "execution_count": 105,
   "metadata": {},
   "outputs": [
    {
     "name": "stdout",
     "output_type": "stream",
     "text": [
      "Accuracy of Deep Neural Network on CIFAR data:  73.68421052631578\n"
     ]
    }
   ],
   "source": [
    "def initialize_layers(layers):\n",
    "    '''Initializing the weights and bias with small random values.\n",
    "    The weights are of the shape no. of to_nodes * no, of from_nodes.\n",
    "    The biases are of the shape no. of to_nodes * 1.'''\n",
    "    parameters = {}\n",
    "    \n",
    "    #generates weights and biases depending on the number of layers\n",
    "    for i in range(1,len(layers)):\n",
    "        parameters['W'+ str(i)] = np.random.normal(0, 1, size = (layers[i], layers[i-1]))\n",
    "        parameters['B'+ str(i)] = np.random.normal(0, 1, size = (layers[i],1))\n",
    "\n",
    "    return parameters\n",
    "\n",
    "def forward_propagation_layers(X, parameters):\n",
    "    '''Forward propagation step which calculates the value of z and sends it to a (activation function)\n",
    "    at each node in each layer.'''\n",
    "    forward_values = {}\n",
    "    for i in range(1,(len(parameters)//2)+1):\n",
    "        \n",
    "      '''at first layer, input features are multiplied with the weights which are them summed \n",
    "       along with bias and sent to activation function.'''\n",
    "      if i == 1:\n",
    "        forward_values['Z' + str(i)] = np.dot(parameters['W' + str(i)],X) + parameters['B' + str(i)]\n",
    "        forward_values['A' + str(i)] = sigmoid(forward_values['Z' + str(i)])\n",
    "        \n",
    "      #at subsequent layers, i.e. hidden layers, \n",
    "      #output from activation function of previous input layer is multiplied with weights which is then summed alongwith bias'''\n",
    "      \n",
    "      else:\n",
    "        forward_values['Z' + str(i)] = np.dot(parameters['W' + str(i)], forward_values['A' + str(i-1)]) + parameters['B' + str(i)]\n",
    "        forward_values['A' + str(i)] = sigmoid(forward_values['Z' + str(i)])\n",
    "\n",
    "    return forward_values\n",
    "\n",
    "def backward_propagation_layers(parameters, forward_values, X, y):\n",
    "    '''Back propagation step calculates derivates of weights and bias\n",
    "    on each node at each layer.'''\n",
    "    backward_values = {}\n",
    "\n",
    "    # computing values of delta w (weights) and delta b (bias).\n",
    "\n",
    "    for i in range(len(parameters)//2,0,-1):\n",
    "    \n",
    "      # Output layer\n",
    "      if i == len(parameters)/2:\n",
    "        dz = forward_values['A' + str(i)] - y\n",
    "        backward_values['dw' + str(i)] = np.dot(dz, forward_values['A' + str(i-1)].T)\n",
    "        backward_values['db' + str(i)] = np.sum(forward_values['A' + str(i)] - y, axis=1, keepdims=True) \n",
    "\n",
    "      # Hidden Layer\n",
    "      else:\n",
    "        dzl = dz\n",
    "        dz = np.multiply(np.dot(parameters['W' + str(i+1)].T, dzl), \n",
    "                                                      (forward_values['A' + str(i)] - np.power(forward_values['A' + str(i)],2)) )\n",
    "        if i == 1:        \n",
    "          backward_values['dw' + str(i)] = np.dot(dz, X)\n",
    "          backward_values['db' + str(i)] = np.sum(dz , axis=1, keepdims=True)  \n",
    "        else:\n",
    "          backward_values['dw' + str(i)] = np.dot(dz, forward_values['A' + str(i-1)].T)\n",
    "          backward_values['db' + str(i)] = np.sum(dz , axis=1, keepdims=True)  \n",
    "\n",
    "    return backward_values\n",
    "\n",
    "def backprop_momentum(parameters, backward_values):\n",
    "    '''Depending on the previous changes in the parameters, it decides the current direction of the updates.'''\n",
    "    momentum_values = {}\n",
    "    #hyperparameter \n",
    "    beta = 0.9\n",
    "    #calculates delta Vw and Vb for each dw and db\n",
    "    for i in range(1,(len(parameters)//2)+1):\n",
    "        \n",
    "        #initialise dVw and dVb to 0\n",
    "        momentum_values['dVW' + str(i)] = 0\n",
    "        momentum_values['dVB' + str(i)] = 0\n",
    "        \n",
    "        #if first iteration, initialise dVw and dVb to dw and db\n",
    "        if i == 1:\n",
    "            momentum_values['dVW' + str(i)] = backward_values['dw' + str(i)]\n",
    "            momentum_values['dVb' + str(i)] = backward_values['db' + str(i)]\n",
    "        \n",
    "        #calculates dVw and dVb for remaining iterations\n",
    "        else:\n",
    "            momentum_values['dVW' + str(i)] = np.dot((1-beta),backward_values['dw' + str(i)]) + (beta * momentum_values['dVW' + str(i)])\n",
    "            momentum_values['dVB' + str(i)] = np.dot((1-beta),backward_values['db' + str(i)]) + (beta * momentum_values['dVB' + str(i)])\n",
    "            \n",
    "    return momentum_values\n",
    "\n",
    "def update_weights_layers(parameters, momentum_values, learning_rate):\n",
    "    '''This function updates the weights and bias at each node and layer.'''\n",
    "    parameters_updated = {} \n",
    "\n",
    "    # Updating weights after backpropagation with momentum.\n",
    "    for i in range(1,(len(parameters)//2)+1):\n",
    "       \n",
    "       parameters_updated['W' + str(i)] = parameters['W' + str(i)] - learning_rate * momentum_values['dVW' + str(i)]\n",
    "       parameters_updated['B' + str(i)] = parameters['B' + str(i)] - learning_rate * momentum_values['dVB' + str(i)]\n",
    "\n",
    "    return parameters_updated\n",
    "\n",
    "def model_layer(X_train, y_train,layers, num_iterations, learning_rate, convergence_threshold):\n",
    "    '''This method integrates the deep neural network steps and returns the optimal parameters obtained.'''\n",
    "    # Initialize weights and bias\n",
    "    parameters = initialize_layers(layers)\n",
    "    J_prev = 0\n",
    "    # Iterating till maximum number of iterations.\n",
    "    for i in range(num_iterations):\n",
    "        # Selecting a random row from training set.\n",
    "        random_indices = np.random.choice(X_train.shape[0], size=1, replace=False)\n",
    "        # Obtaining one training example for stochastic gradient descent.\n",
    "        X_SGD = X_train[random_indices, :]\n",
    "        y_SGD = y_train[random_indices]\n",
    "\n",
    "        # Forward Propagation\n",
    "        forward_values = forward_propagation_layers(X_SGD.T, parameters)\n",
    "\n",
    "        # Cost function\n",
    "        current_cost = cost_func(y_SGD,forward_values['A' + str(len(layers)-1)], )\n",
    "        \n",
    "        #checks convergence\n",
    "        if(abs(current_cost - J_prev) < convergence_threshold):\n",
    "            break\n",
    "            \n",
    "        # Backward propagation\n",
    "        backward_values = backward_propagation_layers(parameters, forward_values, X_SGD, y_SGD)\n",
    "        \n",
    "        #momentum\n",
    "        momentum_values = backprop_momentum(parameters, backward_values)\n",
    "\n",
    "        # Update parameters\n",
    "        parameters = update_weights_layers(parameters,momentum_values, learning_rate)\n",
    "        J_prev = current_cost\n",
    "    return parameters\n",
    "\n",
    "def accuracy_deepNN(X_test, y_test, parameters, y_hat):\n",
    "    '''This method converts the y_hat to binary form based on a threshold value i.e. 0.5\n",
    "    and calculates the accuracy of the model.'''\n",
    "    \n",
    "    # Forward propagating with optimal weights and bias.\n",
    "    values_test = forward_propagation_layers(X_test.T, parameters)\n",
    "    # Obtaining the y_hat value of output layer.\n",
    "    y_pred = values_test[y_hat]\n",
    "    # Since y_pred returns a list of 1 row and multiple columns, we\n",
    "    y_pred_new = y_pred[0]\n",
    "    for x in range(len(y_pred_new)):\n",
    "        # Doing binary classification based on a threshold value (0.5).\n",
    "        if y_pred_new[x]>=0.5:\n",
    "            y_pred_new[x]=1\n",
    "        else:\n",
    "            y_pred_new[x]=0\n",
    "    accr = accuracy_score(y_test, y_pred_new) * 100\n",
    "    return accr\n",
    "\n",
    "def deep_NN():\n",
    "    '''This method creates the dataset, trains the model and obtains the accuracy of the model.'''\n",
    "    X_train_cifar, X_test_cifar, Y_train_cifar, Y_test_cifar, X_val_cifar, Y_val_cifar= load_data()\n",
    "    #Number of layers and nodes are defined here. length of layer is the total number of layers in the network and \n",
    "    #values in the layer list are the number of nodes\n",
    "    layers = [X_train_cifar.shape[1], 3, 3, 1]\n",
    "    #identifies output layer\n",
    "    output_pred = 'A' + str(len(layers)-1)\n",
    "    parameters = model_layer(X_train_cifar, Y_train_cifar,layers, 10000, 0.01, 0.000001)\n",
    "    accr = accuracy_deepNN(X_test_cifar, Y_test_cifar, parameters, output_pred)\n",
    "    return accr\n",
    "\n",
    "print('Accuracy of Deep Neural Network on CIFAR data: ', str(deep_NN()))"
   ]
  },
  {
   "cell_type": "markdown",
   "metadata": {},
   "source": [
    "##### Observation\n",
    "It can also be seen that the accuracy has improved post applying momentum."
   ]
  },
  {
   "cell_type": "markdown",
   "metadata": {},
   "source": [
    "### Contributions\n",
    "Section\t    Task\t                                                       Contributor\n",
    "Ques 1\tAlgo explanation\t                                               Diksha Srivastava\n",
    "\t    Code\t                                                           Saumya Goel\n",
    "Ques 2\tTest \t                                                           Worked together\n",
    "Ques 3\tAlgo explanation\t                                               Saumya Goel\n",
    "\t    Code\t                                                           Diksha Srivastava\n",
    "Ques 4\tClassify Ship and Deer\t                                           Worked together\n",
    "Ques 5\tEnhancement (Backpropagation with momentum) code and explanation   Saumya Goel\n",
    "\tEnhancement (L2 regularization) code and explanation\t               Diksha Srivastava\n",
    "\n"
   ]
  },
  {
   "cell_type": "markdown",
   "metadata": {},
   "source": [
    "### References\n",
    "\n",
    "1. Regularization in Machine Learning - GeeksforGeeks\n",
    "2. Kumar, N. (2021, Dec 15). Understanding Logistic Regression. Retrieved from https://www.geeksforgeeks.org/understanding-logistic-regression/\n",
    "3. Slides of Deep Learning by Prof. Michael Madden\n",
    "\n"
   ]
  }
 ],
 "metadata": {
  "kernelspec": {
   "display_name": "Python 3",
   "language": "python",
   "name": "python3"
  },
  "language_info": {
   "codemirror_mode": {
    "name": "ipython",
    "version": 3
   },
   "file_extension": ".py",
   "mimetype": "text/x-python",
   "name": "python",
   "nbconvert_exporter": "python",
   "pygments_lexer": "ipython3",
   "version": "3.8.3"
  }
 },
 "nbformat": 4,
 "nbformat_minor": 4
}
